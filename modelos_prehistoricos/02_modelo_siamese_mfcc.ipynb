{
 "cells": [
  {
   "cell_type": "markdown",
   "id": "97d14e3a",
   "metadata": {},
   "source": [
    "# 02 - Modelo Siamese MFCC para emparejamiento de clip con audio.\n",
    "*Monserrat Montero T.*"
   ]
  },
  {
   "cell_type": "code",
   "execution_count": 1,
   "id": "4e6e36b9",
   "metadata": {},
   "outputs": [
    {
     "name": "stdout",
     "output_type": "stream",
     "text": [
      "🔍 Carpetas únicas detectadas:\n",
      "['clips_david' 'clips_youtube' 'clips_monse' 'clips_tiktok' 'clips_camera'\n",
      " 'clips_city_session' 'clips_chuncho' 'clips_nico']\n"
     ]
    },
    {
     "name": "stderr",
     "output_type": "stream",
     "text": [
      "100%|██████████| 196/196 [02:00<00:00,  1.62it/s]"
     ]
    },
    {
     "name": "stdout",
     "output_type": "stream",
     "text": [
      "✅ Dataset de pares generado: (588, 20), (588, 20), etiquetas: (588,)\n"
     ]
    },
    {
     "name": "stderr",
     "output_type": "stream",
     "text": [
      "\n"
     ]
    }
   ],
   "source": [
    "from pathlib import Path\n",
    "import librosa\n",
    "import numpy as np\n",
    "import pandas as pd\n",
    "from tqdm import tqdm\n",
    "\n",
    "# --- Configuración general ---\n",
    "sr_target = 48000\n",
    "n_mfcc = 20\n",
    "hop_length = 512\n",
    "ventana = 93  # frames por ~1 segundo\n",
    "salto = 46    # 50% superposición\n",
    "\n",
    "# Dataset de etiquetas\n",
    "ruta_excel = Path(\"etiquetado.xlsx\")\n",
    "df = pd.read_excel(ruta_excel)\n",
    "\n",
    "def convertir_a_segundos(valor):\n",
    "    if isinstance(valor, str) and \":\" in valor:\n",
    "        minutos, segundos = map(int, valor.split(\":\"))\n",
    "        return minutos * 60 + segundos\n",
    "    if isinstance(valor, (int, float)) and valor >= 0:\n",
    "        return int(valor)\n",
    "    return -1\n",
    "\n",
    "df[\"segundo_label\"] = df[\"segundo_inicio\"].apply(convertir_a_segundos)\n",
    "df_validos = df[df[\"segundo_label\"] >= 0].reset_index(drop=True)\n",
    "\n",
    "# --- Aquí guardaremos nuestros pares ---\n",
    "X1 = []  # clip\n",
    "X2 = []  # segmento estudio\n",
    "y_pairs = []\n",
    "\n",
    "# --- Función para obtener MFCC promediado por ventana ---\n",
    "def get_mfcc_vector(audio, sr, start_frame):\n",
    "    segmento = audio[:, start_frame:start_frame + ventana]\n",
    "    if segmento.shape[1] < ventana:\n",
    "        return None\n",
    "    return segmento.mean(axis=1)\n",
    "\n",
    "\n",
    "print(\"🔍 Carpetas únicas detectadas:\")\n",
    "print(df_validos[\"carpeta\"].unique())\n",
    "# --- Recorrer cada fila válida ---\n",
    "for idx, fila in tqdm(df_validos.iterrows(), total=len(df_validos)):\n",
    "    base_audio = Path(fila[\"audio_base\"]).stem\n",
    "    carpeta = fila[\"carpeta\"].strip().strip(\"/\").strip(\"\\\\\")\n",
    "    clip_nombre = fila[\"archivo_clip\"].replace(\".mp4\", \".wav\")\n",
    "    segundo_real = fila[\"segundo_label\"]\n",
    "\n",
    "    # Rutas\n",
    "    ruta_clip = Path(\"clips_syntrack\") / base_audio / carpeta / \"wavs\" / clip_nombre\n",
    "    ruta_estudio = Path(\"clips_syntrack\") / base_audio / \"cancion_estudio\" / f\"{base_audio}.wav\"\n",
    "\n",
    "    if not ruta_clip.exists() or not ruta_estudio.exists():\n",
    "        #a esto le falta el nombre de la canción\n",
    "        \n",
    "        print(f\"❌ Falla con:\\n  - carpeta: '{carpeta}'\\n - cancion: '{base_audio}'\")\n",
    "        print(f\"- ruta_clip: {ruta_clip.exists()}\\n  - ruta_estudio: {ruta_estudio.exists()}\")\n",
    "        continue\n",
    "\n",
    "    # --- MFCC del clip ---\n",
    "    clip_audio, _ = librosa.load(ruta_clip, sr=sr_target)\n",
    "    mfcc_clip = librosa.feature.mfcc(y=clip_audio, sr=sr_target, n_mfcc=n_mfcc, hop_length=hop_length)\n",
    "    mfcc_clip = librosa.util.normalize(mfcc_clip)\n",
    "    clip_vector = get_mfcc_vector(mfcc_clip, sr_target, 0)\n",
    "    if clip_vector is None:\n",
    "        continue\n",
    "\n",
    "    # --- MFCC de la canción de estudio ---\n",
    "    estudio_audio, _ = librosa.load(ruta_estudio, sr=sr_target)\n",
    "    mfcc_estudio = librosa.feature.mfcc(y=estudio_audio, sr=sr_target, n_mfcc=n_mfcc, hop_length=hop_length)\n",
    "    mfcc_estudio = librosa.util.normalize(mfcc_estudio)\n",
    "\n",
    "    # Positivo → segmento del segundo correcto\n",
    "    start_frame = int((segundo_real * sr_target) / hop_length)\n",
    "    positivo_vector = get_mfcc_vector(mfcc_estudio, sr_target, start_frame)\n",
    "    if positivo_vector is None:\n",
    "        continue\n",
    "\n",
    "    X1.append(clip_vector)\n",
    "    X2.append(positivo_vector)\n",
    "    y_pairs.append(1)\n",
    "\n",
    "    # Negativo → escoger otro segundo al azar (distinto al correcto)\n",
    "    segundos_totales = mfcc_estudio.shape[1] * hop_length // sr_target\n",
    "    for _ in range(2):  # generar 2 ejemplos negativos por cada positivo\n",
    "        segundo_negativo = np.random.choice([s for s in range(5, segundos_totales - 5) if abs(s - segundo_real) > 3])\n",
    "        start_neg = int((segundo_negativo * sr_target) / hop_length)\n",
    "        negativo_vector = get_mfcc_vector(mfcc_estudio, sr_target, start_neg)\n",
    "        if negativo_vector is None:\n",
    "            continue\n",
    "\n",
    "        X1.append(clip_vector)\n",
    "        X2.append(negativo_vector)\n",
    "        y_pairs.append(0)\n",
    "\n",
    "# Convertir a numpy\n",
    "X1 = np.array(X1)\n",
    "X2 = np.array(X2)\n",
    "y_pairs = np.array(y_pairs)\n",
    "\n",
    "print(f\"✅ Dataset de pares generado: {X1.shape}, {X2.shape}, etiquetas: {y_pairs.shape}\")"
   ]
  },
  {
   "cell_type": "code",
   "execution_count": 2,
   "id": "9e8bdfba",
   "metadata": {},
   "outputs": [
    {
     "name": "stdout",
     "output_type": "stream",
     "text": [
      "WARNING:tensorflow:From c:\\Users\\monse\\OneDrive\\Escritorio\\proyectoIA\\Syntrack\\venv\\Lib\\site-packages\\keras\\src\\backend\\tensorflow\\core.py:232: The name tf.placeholder is deprecated. Please use tf.compat.v1.placeholder instead.\n",
      "\n"
     ]
    },
    {
     "data": {
      "text/html": [
       "<pre style=\"white-space:pre;overflow-x:auto;line-height:normal;font-family:Menlo,'DejaVu Sans Mono',consolas,'Courier New',monospace\"><span style=\"font-weight: bold\">Model: \"functional\"</span>\n",
       "</pre>\n"
      ],
      "text/plain": [
       "\u001b[1mModel: \"functional\"\u001b[0m\n"
      ]
     },
     "metadata": {},
     "output_type": "display_data"
    },
    {
     "data": {
      "text/html": [
       "<pre style=\"white-space:pre;overflow-x:auto;line-height:normal;font-family:Menlo,'DejaVu Sans Mono',consolas,'Courier New',monospace\">┏━━━━━━━━━━━━━━━━━━━━━┳━━━━━━━━━━━━━━━━━━━┳━━━━━━━━━━━━┳━━━━━━━━━━━━━━━━━━━┓\n",
       "┃<span style=\"font-weight: bold\"> Layer (type)        </span>┃<span style=\"font-weight: bold\"> Output Shape      </span>┃<span style=\"font-weight: bold\">    Param # </span>┃<span style=\"font-weight: bold\"> Connected to      </span>┃\n",
       "┡━━━━━━━━━━━━━━━━━━━━━╇━━━━━━━━━━━━━━━━━━━╇━━━━━━━━━━━━╇━━━━━━━━━━━━━━━━━━━┩\n",
       "│ input_layer_1       │ (<span style=\"color: #00d7ff; text-decoration-color: #00d7ff\">None</span>, <span style=\"color: #00af00; text-decoration-color: #00af00\">20</span>)        │          <span style=\"color: #00af00; text-decoration-color: #00af00\">0</span> │ -                 │\n",
       "│ (<span style=\"color: #0087ff; text-decoration-color: #0087ff\">InputLayer</span>)        │                   │            │                   │\n",
       "├─────────────────────┼───────────────────┼────────────┼───────────────────┤\n",
       "│ input_layer_2       │ (<span style=\"color: #00d7ff; text-decoration-color: #00d7ff\">None</span>, <span style=\"color: #00af00; text-decoration-color: #00af00\">20</span>)        │          <span style=\"color: #00af00; text-decoration-color: #00af00\">0</span> │ -                 │\n",
       "│ (<span style=\"color: #0087ff; text-decoration-color: #0087ff\">InputLayer</span>)        │                   │            │                   │\n",
       "├─────────────────────┼───────────────────┼────────────┼───────────────────┤\n",
       "│ Encoder             │ (<span style=\"color: #00d7ff; text-decoration-color: #00d7ff\">None</span>, <span style=\"color: #00af00; text-decoration-color: #00af00\">32</span>)        │      <span style=\"color: #00af00; text-decoration-color: #00af00\">3,424</span> │ input_layer_1[<span style=\"color: #00af00; text-decoration-color: #00af00\">0</span>]… │\n",
       "│ (<span style=\"color: #0087ff; text-decoration-color: #0087ff\">Functional</span>)        │                   │            │ input_layer_2[<span style=\"color: #00af00; text-decoration-color: #00af00\">0</span>]… │\n",
       "├─────────────────────┼───────────────────┼────────────┼───────────────────┤\n",
       "│ lambda (<span style=\"color: #0087ff; text-decoration-color: #0087ff\">Lambda</span>)     │ (<span style=\"color: #00d7ff; text-decoration-color: #00d7ff\">None</span>, <span style=\"color: #00af00; text-decoration-color: #00af00\">32</span>)        │          <span style=\"color: #00af00; text-decoration-color: #00af00\">0</span> │ Encoder[<span style=\"color: #00af00; text-decoration-color: #00af00\">0</span>][<span style=\"color: #00af00; text-decoration-color: #00af00\">0</span>],    │\n",
       "│                     │                   │            │ Encoder[<span style=\"color: #00af00; text-decoration-color: #00af00\">1</span>][<span style=\"color: #00af00; text-decoration-color: #00af00\">0</span>]     │\n",
       "├─────────────────────┼───────────────────┼────────────┼───────────────────┤\n",
       "│ dense_2 (<span style=\"color: #0087ff; text-decoration-color: #0087ff\">Dense</span>)     │ (<span style=\"color: #00d7ff; text-decoration-color: #00d7ff\">None</span>, <span style=\"color: #00af00; text-decoration-color: #00af00\">32</span>)        │      <span style=\"color: #00af00; text-decoration-color: #00af00\">1,056</span> │ lambda[<span style=\"color: #00af00; text-decoration-color: #00af00\">0</span>][<span style=\"color: #00af00; text-decoration-color: #00af00\">0</span>]      │\n",
       "├─────────────────────┼───────────────────┼────────────┼───────────────────┤\n",
       "│ dense_3 (<span style=\"color: #0087ff; text-decoration-color: #0087ff\">Dense</span>)     │ (<span style=\"color: #00d7ff; text-decoration-color: #00d7ff\">None</span>, <span style=\"color: #00af00; text-decoration-color: #00af00\">1</span>)         │         <span style=\"color: #00af00; text-decoration-color: #00af00\">33</span> │ dense_2[<span style=\"color: #00af00; text-decoration-color: #00af00\">0</span>][<span style=\"color: #00af00; text-decoration-color: #00af00\">0</span>]     │\n",
       "└─────────────────────┴───────────────────┴────────────┴───────────────────┘\n",
       "</pre>\n"
      ],
      "text/plain": [
       "┏━━━━━━━━━━━━━━━━━━━━━┳━━━━━━━━━━━━━━━━━━━┳━━━━━━━━━━━━┳━━━━━━━━━━━━━━━━━━━┓\n",
       "┃\u001b[1m \u001b[0m\u001b[1mLayer (type)       \u001b[0m\u001b[1m \u001b[0m┃\u001b[1m \u001b[0m\u001b[1mOutput Shape     \u001b[0m\u001b[1m \u001b[0m┃\u001b[1m \u001b[0m\u001b[1m   Param #\u001b[0m\u001b[1m \u001b[0m┃\u001b[1m \u001b[0m\u001b[1mConnected to     \u001b[0m\u001b[1m \u001b[0m┃\n",
       "┡━━━━━━━━━━━━━━━━━━━━━╇━━━━━━━━━━━━━━━━━━━╇━━━━━━━━━━━━╇━━━━━━━━━━━━━━━━━━━┩\n",
       "│ input_layer_1       │ (\u001b[38;5;45mNone\u001b[0m, \u001b[38;5;34m20\u001b[0m)        │          \u001b[38;5;34m0\u001b[0m │ -                 │\n",
       "│ (\u001b[38;5;33mInputLayer\u001b[0m)        │                   │            │                   │\n",
       "├─────────────────────┼───────────────────┼────────────┼───────────────────┤\n",
       "│ input_layer_2       │ (\u001b[38;5;45mNone\u001b[0m, \u001b[38;5;34m20\u001b[0m)        │          \u001b[38;5;34m0\u001b[0m │ -                 │\n",
       "│ (\u001b[38;5;33mInputLayer\u001b[0m)        │                   │            │                   │\n",
       "├─────────────────────┼───────────────────┼────────────┼───────────────────┤\n",
       "│ Encoder             │ (\u001b[38;5;45mNone\u001b[0m, \u001b[38;5;34m32\u001b[0m)        │      \u001b[38;5;34m3,424\u001b[0m │ input_layer_1[\u001b[38;5;34m0\u001b[0m]… │\n",
       "│ (\u001b[38;5;33mFunctional\u001b[0m)        │                   │            │ input_layer_2[\u001b[38;5;34m0\u001b[0m]… │\n",
       "├─────────────────────┼───────────────────┼────────────┼───────────────────┤\n",
       "│ lambda (\u001b[38;5;33mLambda\u001b[0m)     │ (\u001b[38;5;45mNone\u001b[0m, \u001b[38;5;34m32\u001b[0m)        │          \u001b[38;5;34m0\u001b[0m │ Encoder[\u001b[38;5;34m0\u001b[0m][\u001b[38;5;34m0\u001b[0m],    │\n",
       "│                     │                   │            │ Encoder[\u001b[38;5;34m1\u001b[0m][\u001b[38;5;34m0\u001b[0m]     │\n",
       "├─────────────────────┼───────────────────┼────────────┼───────────────────┤\n",
       "│ dense_2 (\u001b[38;5;33mDense\u001b[0m)     │ (\u001b[38;5;45mNone\u001b[0m, \u001b[38;5;34m32\u001b[0m)        │      \u001b[38;5;34m1,056\u001b[0m │ lambda[\u001b[38;5;34m0\u001b[0m][\u001b[38;5;34m0\u001b[0m]      │\n",
       "├─────────────────────┼───────────────────┼────────────┼───────────────────┤\n",
       "│ dense_3 (\u001b[38;5;33mDense\u001b[0m)     │ (\u001b[38;5;45mNone\u001b[0m, \u001b[38;5;34m1\u001b[0m)         │         \u001b[38;5;34m33\u001b[0m │ dense_2[\u001b[38;5;34m0\u001b[0m][\u001b[38;5;34m0\u001b[0m]     │\n",
       "└─────────────────────┴───────────────────┴────────────┴───────────────────┘\n"
      ]
     },
     "metadata": {},
     "output_type": "display_data"
    },
    {
     "data": {
      "text/html": [
       "<pre style=\"white-space:pre;overflow-x:auto;line-height:normal;font-family:Menlo,'DejaVu Sans Mono',consolas,'Courier New',monospace\"><span style=\"font-weight: bold\"> Total params: </span><span style=\"color: #00af00; text-decoration-color: #00af00\">4,513</span> (17.63 KB)\n",
       "</pre>\n"
      ],
      "text/plain": [
       "\u001b[1m Total params: \u001b[0m\u001b[38;5;34m4,513\u001b[0m (17.63 KB)\n"
      ]
     },
     "metadata": {},
     "output_type": "display_data"
    },
    {
     "data": {
      "text/html": [
       "<pre style=\"white-space:pre;overflow-x:auto;line-height:normal;font-family:Menlo,'DejaVu Sans Mono',consolas,'Courier New',monospace\"><span style=\"font-weight: bold\"> Trainable params: </span><span style=\"color: #00af00; text-decoration-color: #00af00\">4,513</span> (17.63 KB)\n",
       "</pre>\n"
      ],
      "text/plain": [
       "\u001b[1m Trainable params: \u001b[0m\u001b[38;5;34m4,513\u001b[0m (17.63 KB)\n"
      ]
     },
     "metadata": {},
     "output_type": "display_data"
    },
    {
     "data": {
      "text/html": [
       "<pre style=\"white-space:pre;overflow-x:auto;line-height:normal;font-family:Menlo,'DejaVu Sans Mono',consolas,'Courier New',monospace\"><span style=\"font-weight: bold\"> Non-trainable params: </span><span style=\"color: #00af00; text-decoration-color: #00af00\">0</span> (0.00 B)\n",
       "</pre>\n"
      ],
      "text/plain": [
       "\u001b[1m Non-trainable params: \u001b[0m\u001b[38;5;34m0\u001b[0m (0.00 B)\n"
      ]
     },
     "metadata": {},
     "output_type": "display_data"
    }
   ],
   "source": [
    "from tensorflow.keras import layers, models, Input, Model\n",
    "import tensorflow as tf\n",
    "\n",
    "# Tamaño del input (n_mfcc = 20)\n",
    "input_dim = X1.shape[1]\n",
    "\n",
    "# --- Encoder compartido ---\n",
    "def build_encoder():\n",
    "    inp = Input(shape=(input_dim,))\n",
    "    x = layers.Dense(64, activation='relu')(inp)\n",
    "    x = layers.Dense(32, activation='relu')(x)\n",
    "    return Model(inp, x, name=\"Encoder\")\n",
    "\n",
    "encoder = build_encoder()\n",
    "\n",
    "# --- Inputs siameses ---\n",
    "input_1 = Input(shape=(input_dim,))\n",
    "input_2 = Input(shape=(input_dim,))\n",
    "\n",
    "# --- Aplicar encoder a ambos ---\n",
    "encoded_1 = encoder(input_1)\n",
    "encoded_2 = encoder(input_2)\n",
    "\n",
    "# --- Comparación (distancia absoluta entre embeddings) ---\n",
    "diff = layers.Lambda(lambda tensors: tf.abs(tensors[0] - tensors[1]))([encoded_1, encoded_2])\n",
    "\n",
    "# --- Clasificación final ---\n",
    "x = layers.Dense(32, activation='relu')(diff)\n",
    "x = layers.Dense(1, activation='sigmoid')(x)\n",
    "\n",
    "siamese_model = Model(inputs=[input_1, input_2], outputs=x)\n",
    "siamese_model.compile(optimizer='adam', loss='binary_crossentropy', metrics=['accuracy'])\n",
    "siamese_model.summary()"
   ]
  },
  {
   "cell_type": "code",
   "execution_count": 3,
   "id": "eeacef4c",
   "metadata": {},
   "outputs": [
    {
     "name": "stdout",
     "output_type": "stream",
     "text": [
      "Epoch 1/20\n",
      "\u001b[1m15/15\u001b[0m \u001b[32m━━━━━━━━━━━━━━━━━━━━\u001b[0m\u001b[37m\u001b[0m \u001b[1m1s\u001b[0m 14ms/step - accuracy: 0.6074 - loss: 0.6858 - val_accuracy: 0.6695 - val_loss: 0.6691\n",
      "Epoch 2/20\n",
      "\u001b[1m15/15\u001b[0m \u001b[32m━━━━━━━━━━━━━━━━━━━━\u001b[0m\u001b[37m\u001b[0m \u001b[1m0s\u001b[0m 5ms/step - accuracy: 0.6383 - loss: 0.6616 - val_accuracy: 0.6695 - val_loss: 0.6506\n",
      "Epoch 3/20\n",
      "\u001b[1m15/15\u001b[0m \u001b[32m━━━━━━━━━━━━━━━━━━━━\u001b[0m\u001b[37m\u001b[0m \u001b[1m0s\u001b[0m 5ms/step - accuracy: 0.6914 - loss: 0.6206 - val_accuracy: 0.6695 - val_loss: 0.6358\n",
      "Epoch 4/20\n",
      "\u001b[1m15/15\u001b[0m \u001b[32m━━━━━━━━━━━━━━━━━━━━\u001b[0m\u001b[37m\u001b[0m \u001b[1m0s\u001b[0m 5ms/step - accuracy: 0.6371 - loss: 0.6413 - val_accuracy: 0.6695 - val_loss: 0.6287\n",
      "Epoch 5/20\n",
      "\u001b[1m15/15\u001b[0m \u001b[32m━━━━━━━━━━━━━━━━━━━━\u001b[0m\u001b[37m\u001b[0m \u001b[1m0s\u001b[0m 5ms/step - accuracy: 0.6601 - loss: 0.6169 - val_accuracy: 0.6695 - val_loss: 0.6236\n",
      "Epoch 6/20\n",
      "\u001b[1m15/15\u001b[0m \u001b[32m━━━━━━━━━━━━━━━━━━━━\u001b[0m\u001b[37m\u001b[0m \u001b[1m0s\u001b[0m 5ms/step - accuracy: 0.6557 - loss: 0.6160 - val_accuracy: 0.6695 - val_loss: 0.6210\n",
      "Epoch 7/20\n",
      "\u001b[1m15/15\u001b[0m \u001b[32m━━━━━━━━━━━━━━━━━━━━\u001b[0m\u001b[37m\u001b[0m \u001b[1m0s\u001b[0m 5ms/step - accuracy: 0.6746 - loss: 0.6128 - val_accuracy: 0.6695 - val_loss: 0.6204\n",
      "Epoch 8/20\n",
      "\u001b[1m15/15\u001b[0m \u001b[32m━━━━━━━━━━━━━━━━━━━━\u001b[0m\u001b[37m\u001b[0m \u001b[1m0s\u001b[0m 6ms/step - accuracy: 0.6496 - loss: 0.6132 - val_accuracy: 0.6695 - val_loss: 0.6200\n",
      "Epoch 9/20\n",
      "\u001b[1m15/15\u001b[0m \u001b[32m━━━━━━━━━━━━━━━━━━━━\u001b[0m\u001b[37m\u001b[0m \u001b[1m0s\u001b[0m 5ms/step - accuracy: 0.6780 - loss: 0.5933 - val_accuracy: 0.6695 - val_loss: 0.6196\n",
      "Epoch 10/20\n",
      "\u001b[1m15/15\u001b[0m \u001b[32m━━━━━━━━━━━━━━━━━━━━\u001b[0m\u001b[37m\u001b[0m \u001b[1m0s\u001b[0m 5ms/step - accuracy: 0.6618 - loss: 0.6056 - val_accuracy: 0.6695 - val_loss: 0.6201\n",
      "Epoch 11/20\n",
      "\u001b[1m15/15\u001b[0m \u001b[32m━━━━━━━━━━━━━━━━━━━━\u001b[0m\u001b[37m\u001b[0m \u001b[1m0s\u001b[0m 5ms/step - accuracy: 0.6526 - loss: 0.6127 - val_accuracy: 0.6695 - val_loss: 0.6192\n",
      "Epoch 12/20\n",
      "\u001b[1m15/15\u001b[0m \u001b[32m━━━━━━━━━━━━━━━━━━━━\u001b[0m\u001b[37m\u001b[0m \u001b[1m0s\u001b[0m 5ms/step - accuracy: 0.6332 - loss: 0.6255 - val_accuracy: 0.6695 - val_loss: 0.6181\n",
      "Epoch 13/20\n",
      "\u001b[1m15/15\u001b[0m \u001b[32m━━━━━━━━━━━━━━━━━━━━\u001b[0m\u001b[37m\u001b[0m \u001b[1m0s\u001b[0m 5ms/step - accuracy: 0.6615 - loss: 0.6061 - val_accuracy: 0.6695 - val_loss: 0.6180\n",
      "Epoch 14/20\n",
      "\u001b[1m15/15\u001b[0m \u001b[32m━━━━━━━━━━━━━━━━━━━━\u001b[0m\u001b[37m\u001b[0m \u001b[1m0s\u001b[0m 5ms/step - accuracy: 0.6233 - loss: 0.6199 - val_accuracy: 0.6695 - val_loss: 0.6175\n",
      "Epoch 15/20\n",
      "\u001b[1m15/15\u001b[0m \u001b[32m━━━━━━━━━━━━━━━━━━━━\u001b[0m\u001b[37m\u001b[0m \u001b[1m0s\u001b[0m 5ms/step - accuracy: 0.6728 - loss: 0.5792 - val_accuracy: 0.6695 - val_loss: 0.6161\n",
      "Epoch 16/20\n",
      "\u001b[1m15/15\u001b[0m \u001b[32m━━━━━━━━━━━━━━━━━━━━\u001b[0m\u001b[37m\u001b[0m \u001b[1m0s\u001b[0m 5ms/step - accuracy: 0.6556 - loss: 0.5939 - val_accuracy: 0.6695 - val_loss: 0.6169\n",
      "Epoch 17/20\n",
      "\u001b[1m15/15\u001b[0m \u001b[32m━━━━━━━━━━━━━━━━━━━━\u001b[0m\u001b[37m\u001b[0m \u001b[1m0s\u001b[0m 5ms/step - accuracy: 0.6824 - loss: 0.5728 - val_accuracy: 0.6695 - val_loss: 0.6162\n",
      "Epoch 18/20\n",
      "\u001b[1m15/15\u001b[0m \u001b[32m━━━━━━━━━━━━━━━━━━━━\u001b[0m\u001b[37m\u001b[0m \u001b[1m0s\u001b[0m 5ms/step - accuracy: 0.6724 - loss: 0.5859 - val_accuracy: 0.6695 - val_loss: 0.6177\n",
      "Epoch 19/20\n",
      "\u001b[1m15/15\u001b[0m \u001b[32m━━━━━━━━━━━━━━━━━━━━\u001b[0m\u001b[37m\u001b[0m \u001b[1m0s\u001b[0m 5ms/step - accuracy: 0.6537 - loss: 0.6011 - val_accuracy: 0.6695 - val_loss: 0.6140\n",
      "Epoch 20/20\n",
      "\u001b[1m15/15\u001b[0m \u001b[32m━━━━━━━━━━━━━━━━━━━━\u001b[0m\u001b[37m\u001b[0m \u001b[1m0s\u001b[0m 5ms/step - accuracy: 0.6885 - loss: 0.5701 - val_accuracy: 0.6695 - val_loss: 0.6159\n"
     ]
    }
   ],
   "source": [
    "history = siamese_model.fit(\n",
    "    [X1, X2], y_pairs,\n",
    "    batch_size=32,\n",
    "    epochs=20,\n",
    "    validation_split=0.2\n",
    ")"
   ]
  },
  {
   "cell_type": "code",
   "execution_count": 4,
   "id": "f6bf0166",
   "metadata": {},
   "outputs": [
    {
     "data": {
      "image/png": "[encoded data removed]",
      "text/plain": [
       "<Figure size 1200x500 with 2 Axes>"
      ]
     },
     "metadata": {},
     "output_type": "display_data"
    }
   ],
   "source": [
    "import matplotlib.pyplot as plt\n",
    "\n",
    "# --- Precisión ---\n",
    "plt.figure(figsize=(12, 5))\n",
    "\n",
    "plt.subplot(1, 2, 1)\n",
    "plt.plot(history.history['accuracy'], label='Entrenamiento')\n",
    "plt.plot(history.history['val_accuracy'], label='Validación')\n",
    "plt.title(\"Precisión del modelo siamés\")\n",
    "plt.xlabel(\"Épocas\")\n",
    "plt.ylabel(\"Accuracy\")\n",
    "plt.legend()\n",
    "plt.grid(True)\n",
    "\n",
    "# --- Pérdida ---\n",
    "plt.subplot(1, 2, 2)\n",
    "plt.plot(history.history['loss'], label='Entrenamiento')\n",
    "plt.plot(history.history['val_loss'], label='Validación')\n",
    "plt.title(\"Pérdida (loss)\")\n",
    "plt.xlabel(\"Épocas\")\n",
    "plt.ylabel(\"Loss\")\n",
    "plt.legend()\n",
    "plt.grid(True)\n",
    "\n",
    "plt.tight_layout()\n",
    "plt.show()"
   ]
  },
  {
   "cell_type": "code",
   "execution_count": 9,
   "id": "1cadc70f",
   "metadata": {},
   "outputs": [
    {
     "name": "stdout",
     "output_type": "stream",
     "text": [
      "\n",
      "🎯 El modelo predice que el clip coincide mejor con el segundo ~211 de la canción original.\n"
     ]
    }
   ],
   "source": [
    "from pathlib import Path\n",
    "import librosa\n",
    "import numpy as np\n",
    "\n",
    "# ---------------------\n",
    "# 🔧 Parámetros del clip\n",
    "# ---------------------\n",
    "nombre_cancion = \"clocks_coldplay\"   # 🔁 cámbialo por la canción que quieras\n",
    "nombre_clip    = \"clip05.wav\"        # 🔁 cámbialo por el clip a probar\n",
    "carpeta        = \"clips_youtube\"     # 🔁 subcarpeta donde está el clip\n",
    "\n",
    "# Rutas\n",
    "ruta_clip    = Path(\"clips_syntrack\") / nombre_cancion / carpeta / \"wavs\" / nombre_clip\n",
    "ruta_estudio = Path(\"clips_syntrack\") / nombre_cancion / \"cancion_estudio\" / f\"{nombre_cancion}.wav\"\n",
    "\n",
    "# Cargar y procesar clip\n",
    "clip_audio, _ = librosa.load(ruta_clip, sr=sr_target)\n",
    "mfcc_clip = librosa.feature.mfcc(y=clip_audio, sr=sr_target, n_mfcc=n_mfcc, hop_length=hop_length)\n",
    "mfcc_clip = librosa.util.normalize(mfcc_clip)\n",
    "clip_vector = get_mfcc_vector(mfcc_clip, sr_target, 0)\n",
    "if clip_vector is None:\n",
    "    raise ValueError(\"Clip demasiado corto para extraer vector.\")\n",
    "\n",
    "# Cargar canción de estudio y calcular MFCC\n",
    "estudio_audio, _ = librosa.load(ruta_estudio, sr=sr_target)\n",
    "mfcc_estudio = librosa.feature.mfcc(y=estudio_audio, sr=sr_target, n_mfcc=n_mfcc, hop_length=hop_length)\n",
    "mfcc_estudio = librosa.util.normalize(mfcc_estudio)\n",
    "\n",
    "# Crear vectores de comparación por batch\n",
    "vectores_estudio = []\n",
    "segundos = []\n",
    "\n",
    "for s in range(5, (mfcc_estudio.shape[1] - ventana) * hop_length // sr_target - 5):\n",
    "    frame_inicio = int((s * sr_target) / hop_length)\n",
    "    vector_estudio = get_mfcc_vector(mfcc_estudio, sr_target, frame_inicio)\n",
    "    if vector_estudio is None:\n",
    "        continue\n",
    "    vectores_estudio.append(vector_estudio)\n",
    "    segundos.append(s)\n",
    "\n",
    "# Convertir a arrays\n",
    "X1_batch = np.tile(clip_vector, (len(vectores_estudio), 1))\n",
    "X2_batch = np.array(vectores_estudio)\n",
    "\n",
    "# 🔥 Evaluar en batch (más rápido y sin pérdida de precisión)\n",
    "predicciones = siamese_model.predict([X1_batch, X2_batch], verbose=0).flatten()\n",
    "\n",
    "# Obtener segundo con mayor similitud\n",
    "mejor_segundo = segundos[np.argmax(predicciones)]\n",
    "print(f\"\\n🎯 El modelo predice que el clip coincide mejor con el segundo ~{mejor_segundo} de la canción original.\")"
   ]
  }
 ],
 "metadata": {
  "kernelspec": {
   "display_name": "venv",
   "language": "python",
   "name": "python3"
  },
  "language_info": {
   "codemirror_mode": {
    "name": "ipython",
    "version": 3
   },
   "file_extension": ".py",
   "mimetype": "text/x-python",
   "name": "python",
   "nbconvert_exporter": "python",
   "pygments_lexer": "ipython3",
   "version": "3.11.9"
  }
 },
 "nbformat": 4,
 "nbformat_minor": 5
}
